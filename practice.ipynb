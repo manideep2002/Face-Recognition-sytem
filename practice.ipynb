{
 "cells": [
  {
   "cell_type": "code",
   "execution_count": 1,
   "id": "082e993d",
   "metadata": {
    "collapsed": true
   },
   "outputs": [
    {
     "ename": "ModuleNotFoundError",
     "evalue": "No module named 'cv2'",
     "output_type": "error",
     "traceback": [
      "\u001b[1;31m---------------------------------------------------------------------------\u001b[0m",
      "\u001b[1;31mModuleNotFoundError\u001b[0m                       Traceback (most recent call last)",
      "Input \u001b[1;32mIn [1]\u001b[0m, in \u001b[0;36m<cell line: 1>\u001b[1;34m()\u001b[0m\n\u001b[1;32m----> 1\u001b[0m \u001b[38;5;28;01mimport\u001b[39;00m \u001b[38;5;21;01mcv2\u001b[39;00m\n\u001b[0;32m      2\u001b[0m \u001b[38;5;28;01mimport\u001b[39;00m \u001b[38;5;21;01mnumpy\u001b[39;00m \u001b[38;5;28;01mas\u001b[39;00m \u001b[38;5;21;01mnp\u001b[39;00m \n\u001b[0;32m      4\u001b[0m \u001b[38;5;66;03m#face_path = cv2.CascadeClassifier(\"C:/Users/NIKHIL/OneDrive/Desktop/rom/haarcascade_frontalface_default.xml\")\u001b[39;00m\n",
      "\u001b[1;31mModuleNotFoundError\u001b[0m: No module named 'cv2'"
     ]
    }
   ],
   "source": [
    "import cv2\n",
    "import numpy as np \n",
    "\n",
    "#face_path = cv2.CascadeClassifier(\"C:/Users/NIKHIL/OneDrive/Desktop/rom/haarcascade_frontalface_default.xml\")\n",
    "face_path= cv2.CascadeClassifier(cv2.data.haarcascades + \"haarcascade_frontalface_default.xml\")\n",
    "\n",
    "def face_extractor(img):\n",
    "    #img_umat = cv2.UMat(img)\n",
    "    gray = cv2.cvtColor(img, cv2.COLOR_BGR2GRAY)\n",
    "    face = face_path.detectMultiScale(gray, 1.3, 5)\n",
    "    \n",
    "    if face in ():\n",
    "        return None\n",
    "        \n",
    "    for(x, y, w, h) in face:\n",
    "        cropped_face = img[y: y+h, x: x+w]\n",
    "        \n",
    "    return cropped_face\n",
    "        \n",
    "capture = cv2.VideoCapture(0)\n",
    "count = 0\n",
    "\n",
    "while True:\n",
    "    \n",
    "    ret, frame = capture.read()\n",
    "    \n",
    "    if face_extractor(frame) is not None:\n",
    "        \n",
    "        count = count + 1\n",
    "        face = cv2.resize(face_extractor(frame), (200, 200))\n",
    "        #face_umat = cv2.UMat(face)\n",
    "        face = cv2.cvtColor(face, cv2.COLOR_BGR2GRAY)\n",
    "            \n",
    "        output_path = \"C:/Users/NIKHIL/OneDrive/Desktop/rom/\"+str(count)+\".jpg\"\n",
    "        cv2.imwrite(output_path, face)\n",
    "                \n",
    "        cv2.putText(face, str(count), (50, 50), cv2.FONT_HERSHEY_COMPLEX, 1, (0, 255, 0), 2)\n",
    "        cv2.imshow(\"face cropper\", face)\n",
    "            \n",
    "    else:\n",
    "        print(\"FACE NOT FOUND !\")\n",
    "        pass\n",
    "        \n",
    "    if cv2.waitKey(1) == 13 or count == 100:\n",
    "        break\n",
    "        \n",
    "capture.release()\n",
    "cv2.destroyAllWindows()\n",
    "print(\"ALL SAMPLES COLLECTED !!\")"
   ]
  },
  {
   "cell_type": "code",
   "execution_count": null,
   "id": "3b0952ea",
   "metadata": {
    "collapsed": true
   },
   "outputs": [],
   "source": []
  }
 ],
 "metadata": {
  "kernelspec": {
   "display_name": "Python 3 (ipykernel)",
   "language": "python",
   "name": "python3"
  },
  "language_info": {
   "codemirror_mode": {
    "name": "ipython",
    "version": 3
   },
   "file_extension": ".py",
   "mimetype": "text/x-python",
   "name": "python",
   "nbconvert_exporter": "python",
   "pygments_lexer": "ipython3",
   "version": "3.9.12"
  }
 },
 "nbformat": 4,
 "nbformat_minor": 5
}
